{
  "nbformat": 4,
  "nbformat_minor": 0,
  "metadata": {
    "colab": {
      "provenance": []
    },
    "kernelspec": {
      "name": "python3",
      "display_name": "Python 3"
    },
    "language_info": {
      "name": "python"
    }
  },
  "cells": [
    {
      "cell_type": "markdown",
      "source": [
        "\n",
        "Постройте модель на основе полносвязных слоёв для классификации Fashion MNIST из библиотеки torchvision (datasets).\n",
        "Получите качество на тестовой выборке не ниже 88%\n",
        "\n",
        "Инструкция по выполнению задания\n",
        "\n",
        "Скачайте тренировочную и тестовою часть датасета\n",
        "Постройте модель, выбрав стартовую архитектуру\n",
        "Обучите модель и сверьте качество на тестовой части с заданным порогом\n",
        "Изменяйте архитектуру модели пока качество на тестовой части не будет выше порога. Вариации архитектуры можно реализовать через изменение количества слоёв, количества нейронов в слоях и использование регуляризации. Можно использовать различные оптимизаторы."
      ],
      "metadata": {
        "id": "D7LNeF1Gib3R"
      }
    },
    {
      "cell_type": "code",
      "source": [
        "import torch"
      ],
      "metadata": {
        "id": "QivFSp4ciE1H"
      },
      "execution_count": 1,
      "outputs": []
    },
    {
      "cell_type": "code",
      "source": [
        "import torchvision as tv"
      ],
      "metadata": {
        "id": "SWjskS_GiFDe"
      },
      "execution_count": 2,
      "outputs": []
    },
    {
      "cell_type": "code",
      "source": [
        "import pandas as pd\n",
        "import numpy as np"
      ],
      "metadata": {
        "id": "N0Rj5UcjiFQ9"
      },
      "execution_count": 3,
      "outputs": []
    },
    {
      "cell_type": "code",
      "source": [
        "import time"
      ],
      "metadata": {
        "id": "v1h6Az3piPUP"
      },
      "execution_count": 4,
      "outputs": []
    },
    {
      "cell_type": "code",
      "source": [
        "BATCH_SIZE=256"
      ],
      "metadata": {
        "id": "vWekDqVwiPdF"
      },
      "execution_count": 5,
      "outputs": []
    },
    {
      "cell_type": "code",
      "source": [
        "train_dataset = tv.datasets.FashionMNIST('.', train=True, transform=tv.transforms.ToTensor(), download=True)\n",
        "test_dataset = tv.datasets.FashionMNIST('.', train=False, transform=tv.transforms.ToTensor(), download=True)\n",
        "train = torch.utils.data.DataLoader(train_dataset, batch_size=BATCH_SIZE)\n",
        "test = torch.utils.data.DataLoader(test_dataset, batch_size=BATCH_SIZE)"
      ],
      "metadata": {
        "colab": {
          "base_uri": "https://localhost:8080/"
        },
        "id": "eF7cwyRRiPhD",
        "outputId": "01b4cc41-c146-4dfe-e7be-b8f063477e78"
      },
      "execution_count": 6,
      "outputs": [
        {
          "output_type": "stream",
          "name": "stdout",
          "text": [
            "Downloading http://fashion-mnist.s3-website.eu-central-1.amazonaws.com/train-images-idx3-ubyte.gz\n",
            "Downloading http://fashion-mnist.s3-website.eu-central-1.amazonaws.com/train-images-idx3-ubyte.gz to ./FashionMNIST/raw/train-images-idx3-ubyte.gz\n"
          ]
        },
        {
          "output_type": "stream",
          "name": "stderr",
          "text": [
            "100%|██████████| 26421880/26421880 [00:01<00:00, 16257481.25it/s]\n"
          ]
        },
        {
          "output_type": "stream",
          "name": "stdout",
          "text": [
            "Extracting ./FashionMNIST/raw/train-images-idx3-ubyte.gz to ./FashionMNIST/raw\n",
            "\n",
            "Downloading http://fashion-mnist.s3-website.eu-central-1.amazonaws.com/train-labels-idx1-ubyte.gz\n",
            "Downloading http://fashion-mnist.s3-website.eu-central-1.amazonaws.com/train-labels-idx1-ubyte.gz to ./FashionMNIST/raw/train-labels-idx1-ubyte.gz\n"
          ]
        },
        {
          "output_type": "stream",
          "name": "stderr",
          "text": [
            "100%|██████████| 29515/29515 [00:00<00:00, 307256.52it/s]\n"
          ]
        },
        {
          "output_type": "stream",
          "name": "stdout",
          "text": [
            "Extracting ./FashionMNIST/raw/train-labels-idx1-ubyte.gz to ./FashionMNIST/raw\n",
            "\n",
            "Downloading http://fashion-mnist.s3-website.eu-central-1.amazonaws.com/t10k-images-idx3-ubyte.gz\n",
            "Downloading http://fashion-mnist.s3-website.eu-central-1.amazonaws.com/t10k-images-idx3-ubyte.gz to ./FashionMNIST/raw/t10k-images-idx3-ubyte.gz\n"
          ]
        },
        {
          "output_type": "stream",
          "name": "stderr",
          "text": [
            "100%|██████████| 4422102/4422102 [00:00<00:00, 5451659.12it/s]\n"
          ]
        },
        {
          "output_type": "stream",
          "name": "stdout",
          "text": [
            "Extracting ./FashionMNIST/raw/t10k-images-idx3-ubyte.gz to ./FashionMNIST/raw\n",
            "\n",
            "Downloading http://fashion-mnist.s3-website.eu-central-1.amazonaws.com/t10k-labels-idx1-ubyte.gz\n",
            "Downloading http://fashion-mnist.s3-website.eu-central-1.amazonaws.com/t10k-labels-idx1-ubyte.gz to ./FashionMNIST/raw/t10k-labels-idx1-ubyte.gz\n"
          ]
        },
        {
          "output_type": "stream",
          "name": "stderr",
          "text": [
            "100%|██████████| 5148/5148 [00:00<00:00, 4474156.03it/s]\n"
          ]
        },
        {
          "output_type": "stream",
          "name": "stdout",
          "text": [
            "Extracting ./FashionMNIST/raw/t10k-labels-idx1-ubyte.gz to ./FashionMNIST/raw\n",
            "\n"
          ]
        }
      ]
    },
    {
      "cell_type": "code",
      "source": [
        "train_dataset[0][0].shape"
      ],
      "metadata": {
        "colab": {
          "base_uri": "https://localhost:8080/"
        },
        "id": "8mhLGEOciPlR",
        "outputId": "532ffeea-8061-47fe-f4a8-8e5f6126debd"
      },
      "execution_count": 7,
      "outputs": [
        {
          "output_type": "execute_result",
          "data": {
            "text/plain": [
              "torch.Size([1, 28, 28])"
            ]
          },
          "metadata": {},
          "execution_count": 7
        }
      ]
    },
    {
      "cell_type": "code",
      "source": [
        "model = torch.nn.Sequential(\n",
        "    torch.nn.Flatten(),\n",
        "    torch.nn.Linear(784, 256),\n",
        "    torch.nn.ReLU(),\n",
        "    torch.nn.Linear(256, 10)\n",
        ")"
      ],
      "metadata": {
        "id": "9OxYZgmziPsq"
      },
      "execution_count": 8,
      "outputs": []
    },
    {
      "cell_type": "code",
      "source": [
        "model"
      ],
      "metadata": {
        "colab": {
          "base_uri": "https://localhost:8080/"
        },
        "id": "KGWGYcIbpB7j",
        "outputId": "73127f04-2144-4360-95fa-5373d3231a14"
      },
      "execution_count": 9,
      "outputs": [
        {
          "output_type": "execute_result",
          "data": {
            "text/plain": [
              "Sequential(\n",
              "  (0): Flatten(start_dim=1, end_dim=-1)\n",
              "  (1): Linear(in_features=784, out_features=256, bias=True)\n",
              "  (2): ReLU()\n",
              "  (3): Linear(in_features=256, out_features=10, bias=True)\n",
              ")"
            ]
          },
          "metadata": {},
          "execution_count": 9
        }
      ]
    },
    {
      "cell_type": "code",
      "source": [
        "loss = torch.nn.CrossEntropyLoss()\n",
        "trainer = torch.optim.RMSprop(model.parameters(), lr=.01)\n",
        "num_epochs = 10"
      ],
      "metadata": {
        "id": "k9lJ9s_UpLLn"
      },
      "execution_count": 10,
      "outputs": []
    },
    {
      "cell_type": "code",
      "source": [
        "import time"
      ],
      "metadata": {
        "id": "w3zZTOqBpLSM"
      },
      "execution_count": 11,
      "outputs": []
    },
    {
      "cell_type": "code",
      "source": [
        "def train_model():\n",
        "    for ep in range(num_epochs):\n",
        "        train_iters, train_passed  = 0, 0\n",
        "        train_loss, train_acc = 0., 0.\n",
        "        start=time.time()\n",
        "\n",
        "        model.train()\n",
        "        for X, y in train:\n",
        "            trainer.zero_grad()\n",
        "            y_pred = model(X)\n",
        "            l = loss(y_pred, y)\n",
        "            l.backward()\n",
        "            trainer.step()\n",
        "            train_loss += l.item()\n",
        "            train_acc += (y_pred.argmax(dim=1) == y).sum().item()\n",
        "            train_iters += 1\n",
        "            train_passed += len(X)\n",
        "\n",
        "        test_iters, test_passed  = 0, 0\n",
        "        test_loss, test_acc = 0., 0.\n",
        "        model.eval()\n",
        "        for X, y in test:\n",
        "            y_pred = model(X)\n",
        "            l = loss(y_pred, y)\n",
        "            test_loss += l.item()\n",
        "            test_acc += (y_pred.argmax(dim=1) == y).sum().item()\n",
        "            test_iters += 1\n",
        "            test_passed += len(X)\n",
        "\n",
        "        print(\"ep: {}, taked: {:.3f}, train_loss: {}, train_acc: {}, test_loss: {}, test_acc: {}\".format(\n",
        "            ep, time.time() - start, train_loss / train_iters, train_acc / train_passed,\n",
        "            test_loss / test_iters, test_acc / test_passed)\n",
        "        )"
      ],
      "metadata": {
        "id": "h0z6n6HVpLVw"
      },
      "execution_count": 12,
      "outputs": []
    },
    {
      "cell_type": "code",
      "source": [
        "\n",
        "train_model()"
      ],
      "metadata": {
        "colab": {
          "base_uri": "https://localhost:8080/"
        },
        "id": "TzsnnCrRpZCH",
        "outputId": "d9062515-c1f8-4faa-a87b-e09fc72d78ff"
      },
      "execution_count": 13,
      "outputs": [
        {
          "output_type": "stream",
          "name": "stdout",
          "text": [
            "ep: 0, taked: 14.270, train_loss: 2.0407474016889613, train_acc: 0.7641166666666667, test_loss: 0.6217028684914112, test_acc: 0.7773\n",
            "ep: 1, taked: 10.554, train_loss: 0.46909929805613576, train_acc: 0.8311833333333334, test_loss: 0.4290535062551498, test_acc: 0.8456\n",
            "ep: 2, taked: 10.180, train_loss: 0.42541170767013065, train_acc: 0.84515, test_loss: 0.4249147891998291, test_acc: 0.8457\n",
            "ep: 3, taked: 10.308, train_loss: 0.3938518520999462, train_acc: 0.8545666666666667, test_loss: 0.49214446246623994, test_acc: 0.8383\n",
            "ep: 4, taked: 10.316, train_loss: 0.38081164918047317, train_acc: 0.8610666666666666, test_loss: 0.4424743395298719, test_acc: 0.8463\n",
            "ep: 5, taked: 9.177, train_loss: 0.3668817623498592, train_acc: 0.8653666666666666, test_loss: 0.40336456038057805, test_acc: 0.8591\n",
            "ep: 6, taked: 11.007, train_loss: 0.34481846531654925, train_acc: 0.8715, test_loss: 0.5209329333156347, test_acc: 0.8136\n",
            "ep: 7, taked: 11.691, train_loss: 0.36938562786325496, train_acc: 0.8717333333333334, test_loss: 0.396555694565177, test_acc: 0.8609\n",
            "ep: 8, taked: 11.458, train_loss: 0.311334010451398, train_acc: 0.8822333333333333, test_loss: 0.40383683517575264, test_acc: 0.8606\n",
            "ep: 9, taked: 11.127, train_loss: 0.31209722300793263, train_acc: 0.8828166666666667, test_loss: 0.43526299446821215, test_acc: 0.8555\n"
          ]
        }
      ]
    },
    {
      "cell_type": "code",
      "source": [
        "model = torch.nn.Sequential(\n",
        "    torch.nn.Flatten(),\n",
        "    torch.nn.Linear(784, 256),\n",
        "    torch.nn.ReLU(),\n",
        "    torch.nn.Linear(256, 128),\n",
        "    torch.nn.ReLU(),\n",
        "    torch.nn.Linear(128, 64),\n",
        "    torch.nn.ReLU(),\n",
        "    torch.nn.Linear(64, 10)\n",
        ")"
      ],
      "metadata": {
        "id": "XsKnLQfSpZFh"
      },
      "execution_count": 14,
      "outputs": []
    },
    {
      "cell_type": "code",
      "source": [
        "\n",
        "trainer = torch.optim.Adam(model.parameters(), lr=.001)\n",
        "train_model()"
      ],
      "metadata": {
        "id": "jLgRi0wKpZJR",
        "colab": {
          "base_uri": "https://localhost:8080/"
        },
        "outputId": "7470690d-6838-4469-c3ef-01a6f1fe1d7c"
      },
      "execution_count": 16,
      "outputs": [
        {
          "output_type": "stream",
          "name": "stdout",
          "text": [
            "ep: 0, taked: 11.107, train_loss: 0.22612467313066442, train_acc: 0.9159666666666667, test_loss: 0.328816170245409, test_acc: 0.886\n",
            "ep: 1, taked: 11.252, train_loss: 0.21350621955191834, train_acc: 0.9211333333333334, test_loss: 0.3325360544025898, test_acc: 0.8869\n",
            "ep: 2, taked: 10.918, train_loss: 0.2030383051075834, train_acc: 0.9245666666666666, test_loss: 0.336909762211144, test_acc: 0.8872\n",
            "ep: 3, taked: 11.104, train_loss: 0.19459581650952076, train_acc: 0.92765, test_loss: 0.33982949107885363, test_acc: 0.8863\n",
            "ep: 4, taked: 11.126, train_loss: 0.18747292582659011, train_acc: 0.9305166666666667, test_loss: 0.35041961167007685, test_acc: 0.8856\n",
            "ep: 5, taked: 11.036, train_loss: 0.1810510037110207, train_acc: 0.9326166666666666, test_loss: 0.3535566784441471, test_acc: 0.8866\n",
            "ep: 6, taked: 11.083, train_loss: 0.1739396665324556, train_acc: 0.93485, test_loss: 0.35328023731708524, test_acc: 0.8878\n",
            "ep: 7, taked: 10.953, train_loss: 0.1658152570432805, train_acc: 0.9384166666666667, test_loss: 0.3591024599969387, test_acc: 0.8878\n",
            "ep: 8, taked: 10.479, train_loss: 0.16299535283382902, train_acc: 0.9387333333333333, test_loss: 0.3683217026293278, test_acc: 0.8867\n",
            "ep: 9, taked: 10.615, train_loss: 0.158213180430392, train_acc: 0.9403333333333334, test_loss: 0.3977439315989614, test_acc: 0.8848\n"
          ]
        }
      ]
    },
    {
      "cell_type": "code",
      "source": [],
      "metadata": {
        "id": "ZNBYAk67fp79"
      },
      "execution_count": null,
      "outputs": []
    }
  ]
}