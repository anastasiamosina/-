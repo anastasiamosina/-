{
  "nbformat": 4,
  "nbformat_minor": 0,
  "metadata": {
    "colab": {
      "provenance": []
    },
    "kernelspec": {
      "name": "python3",
      "display_name": "Python 3"
    },
    "language_info": {
      "name": "python"
    }
  },
  "cells": [
    {
      "cell_type": "markdown",
      "source": [
        "\n",
        "Постройте модель на основе полносвязных слоёв для классификации Fashion MNIST из библиотеки torchvision (datasets).\n",
        "Получите качество на тестовой выборке не ниже 88%\n",
        "\n",
        "Инструкция по выполнению задания\n",
        "\n",
        "Скачайте тренировочную и тестовою часть датасета\n",
        "Постройте модель, выбрав стартовую архитектуру\n",
        "Обучите модель и сверьте качество на тестовой части с заданным порогом\n",
        "Изменяйте архитектуру модели пока качество на тестовой части не будет выше порога. Вариации архитектуры можно реализовать через изменение количества слоёв, количества нейронов в слоях и использование регуляризации. Можно использовать различные оптимизаторы."
      ],
      "metadata": {
        "id": "D7LNeF1Gib3R"
      }
    },
    {
      "cell_type": "code",
      "source": [
        "import torch"
      ],
      "metadata": {
        "id": "QivFSp4ciE1H"
      },
      "execution_count": 1,
      "outputs": []
    },
    {
      "cell_type": "code",
      "source": [
        "import torchvision as tv"
      ],
      "metadata": {
        "id": "SWjskS_GiFDe"
      },
      "execution_count": 2,
      "outputs": []
    },
    {
      "cell_type": "code",
      "source": [
        "import pandas as pd\n",
        "import numpy as np"
      ],
      "metadata": {
        "id": "N0Rj5UcjiFQ9"
      },
      "execution_count": 3,
      "outputs": []
    },
    {
      "cell_type": "code",
      "source": [
        "import time"
      ],
      "metadata": {
        "id": "v1h6Az3piPUP"
      },
      "execution_count": 4,
      "outputs": []
    },
    {
      "cell_type": "code",
      "source": [
        "BATCH_SIZE=256"
      ],
      "metadata": {
        "id": "vWekDqVwiPdF"
      },
      "execution_count": 5,
      "outputs": []
    },
    {
      "cell_type": "code",
      "source": [
        "train_dataset = tv.datasets.MNIST('.', train=True, transform=tv.transforms.ToTensor(), download=True)\n",
        "test_dataset = tv.datasets.MNIST('.', train=False, transform=tv.transforms.ToTensor(), download=True)\n",
        "train = torch.utils.data.DataLoader(train_dataset, batch_size=BATCH_SIZE)\n",
        "test = torch.utils.data.DataLoader(test_dataset, batch_size=BATCH_SIZE)"
      ],
      "metadata": {
        "colab": {
          "base_uri": "https://localhost:8080/"
        },
        "id": "eF7cwyRRiPhD",
        "outputId": "85bd5344-88f1-42fb-f623-46b9be729bf5"
      },
      "execution_count": 6,
      "outputs": [
        {
          "output_type": "stream",
          "name": "stdout",
          "text": [
            "Downloading http://yann.lecun.com/exdb/mnist/train-images-idx3-ubyte.gz\n",
            "Downloading http://yann.lecun.com/exdb/mnist/train-images-idx3-ubyte.gz to ./MNIST/raw/train-images-idx3-ubyte.gz\n"
          ]
        },
        {
          "output_type": "stream",
          "name": "stderr",
          "text": [
            "100%|██████████| 9912422/9912422 [00:00<00:00, 152309277.77it/s]"
          ]
        },
        {
          "output_type": "stream",
          "name": "stdout",
          "text": [
            "Extracting ./MNIST/raw/train-images-idx3-ubyte.gz to ./MNIST/raw\n"
          ]
        },
        {
          "output_type": "stream",
          "name": "stderr",
          "text": [
            "\n"
          ]
        },
        {
          "output_type": "stream",
          "name": "stdout",
          "text": [
            "\n",
            "Downloading http://yann.lecun.com/exdb/mnist/train-labels-idx1-ubyte.gz\n",
            "Downloading http://yann.lecun.com/exdb/mnist/train-labels-idx1-ubyte.gz to ./MNIST/raw/train-labels-idx1-ubyte.gz\n"
          ]
        },
        {
          "output_type": "stream",
          "name": "stderr",
          "text": [
            "100%|██████████| 28881/28881 [00:00<00:00, 37713478.77it/s]\n"
          ]
        },
        {
          "output_type": "stream",
          "name": "stdout",
          "text": [
            "Extracting ./MNIST/raw/train-labels-idx1-ubyte.gz to ./MNIST/raw\n",
            "\n",
            "Downloading http://yann.lecun.com/exdb/mnist/t10k-images-idx3-ubyte.gz\n",
            "Downloading http://yann.lecun.com/exdb/mnist/t10k-images-idx3-ubyte.gz to ./MNIST/raw/t10k-images-idx3-ubyte.gz\n"
          ]
        },
        {
          "output_type": "stream",
          "name": "stderr",
          "text": [
            "100%|██████████| 1648877/1648877 [00:00<00:00, 46377094.05it/s]"
          ]
        },
        {
          "output_type": "stream",
          "name": "stdout",
          "text": [
            "Extracting ./MNIST/raw/t10k-images-idx3-ubyte.gz to ./MNIST/raw\n"
          ]
        },
        {
          "output_type": "stream",
          "name": "stderr",
          "text": [
            "\n"
          ]
        },
        {
          "output_type": "stream",
          "name": "stdout",
          "text": [
            "\n",
            "Downloading http://yann.lecun.com/exdb/mnist/t10k-labels-idx1-ubyte.gz\n",
            "Downloading http://yann.lecun.com/exdb/mnist/t10k-labels-idx1-ubyte.gz to ./MNIST/raw/t10k-labels-idx1-ubyte.gz\n"
          ]
        },
        {
          "output_type": "stream",
          "name": "stderr",
          "text": [
            "100%|██████████| 4542/4542 [00:00<00:00, 15024076.32it/s]\n"
          ]
        },
        {
          "output_type": "stream",
          "name": "stdout",
          "text": [
            "Extracting ./MNIST/raw/t10k-labels-idx1-ubyte.gz to ./MNIST/raw\n",
            "\n"
          ]
        }
      ]
    },
    {
      "cell_type": "code",
      "source": [
        "train_dataset[0][0].shape"
      ],
      "metadata": {
        "colab": {
          "base_uri": "https://localhost:8080/"
        },
        "id": "8mhLGEOciPlR",
        "outputId": "a3da5444-7868-426d-f75b-6f2db4d7ea95"
      },
      "execution_count": 7,
      "outputs": [
        {
          "output_type": "execute_result",
          "data": {
            "text/plain": [
              "torch.Size([1, 28, 28])"
            ]
          },
          "metadata": {},
          "execution_count": 7
        }
      ]
    },
    {
      "cell_type": "code",
      "source": [
        "model = torch.nn.Sequential(\n",
        "    torch.nn.Flatten(),\n",
        "    torch.nn.Linear(784, 256),\n",
        "    torch.nn.ReLU(),\n",
        "    torch.nn.Linear(256, 10)\n",
        ")"
      ],
      "metadata": {
        "id": "9OxYZgmziPsq"
      },
      "execution_count": 8,
      "outputs": []
    },
    {
      "cell_type": "code",
      "source": [
        "model"
      ],
      "metadata": {
        "colab": {
          "base_uri": "https://localhost:8080/"
        },
        "id": "KGWGYcIbpB7j",
        "outputId": "9f182e81-b46b-4976-9d91-68ee2f438c3a"
      },
      "execution_count": 9,
      "outputs": [
        {
          "output_type": "execute_result",
          "data": {
            "text/plain": [
              "Sequential(\n",
              "  (0): Flatten(start_dim=1, end_dim=-1)\n",
              "  (1): Linear(in_features=784, out_features=256, bias=True)\n",
              "  (2): ReLU()\n",
              "  (3): Linear(in_features=256, out_features=10, bias=True)\n",
              ")"
            ]
          },
          "metadata": {},
          "execution_count": 9
        }
      ]
    },
    {
      "cell_type": "code",
      "source": [
        "loss = torch.nn.CrossEntropyLoss()\n",
        "trainer = torch.optim.RMSprop(model.parameters(), lr=.01)\n",
        "num_epochs = 10"
      ],
      "metadata": {
        "id": "k9lJ9s_UpLLn"
      },
      "execution_count": 10,
      "outputs": []
    },
    {
      "cell_type": "code",
      "source": [
        "import time"
      ],
      "metadata": {
        "id": "w3zZTOqBpLSM"
      },
      "execution_count": 11,
      "outputs": []
    },
    {
      "cell_type": "code",
      "source": [
        "def train_model():\n",
        "    for ep in range(num_epochs):\n",
        "        train_iters, train_passed  = 0, 0\n",
        "        train_loss, train_acc = 0., 0.\n",
        "        start=time.time()\n",
        "\n",
        "        model.train()\n",
        "        for X, y in train:\n",
        "            trainer.zero_grad()\n",
        "            y_pred = model(X)\n",
        "            l = loss(y_pred, y)\n",
        "            l.backward()\n",
        "            trainer.step()\n",
        "            train_loss += l.item()\n",
        "            train_acc += (y_pred.argmax(dim=1) == y).sum().item()\n",
        "            train_iters += 1\n",
        "            train_passed += len(X)\n",
        "\n",
        "        test_iters, test_passed  = 0, 0\n",
        "        test_loss, test_acc = 0., 0.\n",
        "        model.eval()\n",
        "        for X, y in test:\n",
        "            y_pred = model(X)\n",
        "            l = loss(y_pred, y)\n",
        "            test_loss += l.item()\n",
        "            test_acc += (y_pred.argmax(dim=1) == y).sum().item()\n",
        "            test_iters += 1\n",
        "            test_passed += len(X)\n",
        "\n",
        "        print(\"ep: {}, taked: {:.3f}, train_loss: {}, train_acc: {}, test_loss: {}, test_acc: {}\".format(\n",
        "            ep, time.time() - start, train_loss / train_iters, train_acc / train_passed,\n",
        "            test_loss / test_iters, test_acc / test_passed)\n",
        "        )"
      ],
      "metadata": {
        "id": "h0z6n6HVpLVw"
      },
      "execution_count": 12,
      "outputs": []
    },
    {
      "cell_type": "code",
      "source": [
        "\n",
        "train_model()"
      ],
      "metadata": {
        "colab": {
          "base_uri": "https://localhost:8080/"
        },
        "id": "TzsnnCrRpZCH",
        "outputId": "b5ec3f54-45db-420b-d2f4-9e566cc88f1f"
      },
      "execution_count": 13,
      "outputs": [
        {
          "output_type": "stream",
          "name": "stdout",
          "text": [
            "ep: 0, taked: 9.639, train_loss: 0.776890156838171, train_acc: 0.9005, test_loss: 0.28165677823126317, test_acc: 0.9157\n",
            "ep: 1, taked: 9.077, train_loss: 0.1487927075990654, train_acc: 0.9556666666666667, test_loss: 0.23638678416609765, test_acc: 0.9302\n",
            "ep: 2, taked: 9.199, train_loss: 0.10852411432350252, train_acc: 0.96715, test_loss: 0.14051855301950128, test_acc: 0.9589\n",
            "ep: 3, taked: 9.560, train_loss: 0.0911896237310894, train_acc: 0.9728833333333333, test_loss: 0.1512125694192946, test_acc: 0.9571\n",
            "ep: 4, taked: 9.499, train_loss: 0.07243171855757766, train_acc: 0.9785666666666667, test_loss: 0.1355069418437779, test_acc: 0.9624\n",
            "ep: 5, taked: 9.053, train_loss: 0.05804299227100738, train_acc: 0.98175, test_loss: 0.13429821088793686, test_acc: 0.9646\n",
            "ep: 6, taked: 9.207, train_loss: 0.05111487050580376, train_acc: 0.9835666666666667, test_loss: 0.12414167001552415, test_acc: 0.9676\n",
            "ep: 7, taked: 9.502, train_loss: 0.046535821549812374, train_acc: 0.9855833333333334, test_loss: 0.13968460042433434, test_acc: 0.9705\n",
            "ep: 8, taked: 9.578, train_loss: 0.040924660255884794, train_acc: 0.9868, test_loss: 0.1532095285819878, test_acc: 0.9659\n",
            "ep: 9, taked: 9.061, train_loss: 0.03508256121607933, train_acc: 0.9887833333333333, test_loss: 0.14399265589954666, test_acc: 0.9718\n"
          ]
        }
      ]
    },
    {
      "cell_type": "code",
      "source": [
        "model = torch.nn.Sequential(\n",
        "    torch.nn.Flatten(),\n",
        "    torch.nn.Linear(784, 512),\n",
        "    torch.nn.ReLU(),\n",
        "    torch.nn.Linear(512, 256),\n",
        "    torch.nn.ReLU(),\n",
        "    torch.nn.Linear(256, 128),\n",
        "    torch.nn.ReLU(),\n",
        "    torch.nn.Linear(128, 10)\n",
        ")"
      ],
      "metadata": {
        "id": "XsKnLQfSpZFh"
      },
      "execution_count": 16,
      "outputs": []
    },
    {
      "cell_type": "code",
      "source": [
        "\n",
        "trainer = torch.optim.RMSprop(model.parameters(), lr=.01)\n",
        "train_model()"
      ],
      "metadata": {
        "id": "jLgRi0wKpZJR",
        "colab": {
          "base_uri": "https://localhost:8080/"
        },
        "outputId": "66464ca3-5de8-4d65-9b1b-f9bb2daed8e1"
      },
      "execution_count": 17,
      "outputs": [
        {
          "output_type": "stream",
          "name": "stdout",
          "text": [
            "ep: 0, taked: 11.940, train_loss: 4.023634274280135, train_acc: 0.8275, test_loss: 0.5719333052635193, test_acc: 0.8674\n",
            "ep: 1, taked: 11.801, train_loss: 0.2012548716619928, train_acc: 0.9402, test_loss: 0.5223146644420922, test_acc: 0.8766\n",
            "ep: 2, taked: 11.835, train_loss: 0.18514325356388345, train_acc: 0.94695, test_loss: 0.19969452960649506, test_acc: 0.9466\n",
            "ep: 3, taked: 11.780, train_loss: 0.1511544990491994, train_acc: 0.9559666666666666, test_loss: 0.1590937664732337, test_acc: 0.9562\n",
            "ep: 4, taked: 11.779, train_loss: 0.16036528693710236, train_acc: 0.9573333333333334, test_loss: 0.16379800703725778, test_acc: 0.9591\n",
            "ep: 5, taked: 11.608, train_loss: 0.10786810573586758, train_acc: 0.9689, test_loss: 0.16687535899400247, test_acc: 0.9592\n",
            "ep: 6, taked: 11.383, train_loss: 0.13432616291646945, train_acc: 0.9671166666666666, test_loss: 0.15091781228547915, test_acc: 0.9637\n",
            "ep: 7, taked: 11.373, train_loss: 0.09289909549493422, train_acc: 0.9736333333333334, test_loss: 0.18150180502561852, test_acc: 0.9563\n",
            "ep: 8, taked: 11.720, train_loss: 0.08683480173448457, train_acc: 0.9751166666666666, test_loss: 0.1609238895762246, test_acc: 0.9656\n",
            "ep: 9, taked: 11.810, train_loss: 0.08332524897748644, train_acc: 0.9767, test_loss: 0.14009207939379847, test_acc: 0.9688\n"
          ]
        }
      ]
    },
    {
      "cell_type": "code",
      "source": [
        "model = torch.nn.Sequential(\n",
        "    torch.nn.Flatten(),\n",
        "    torch.nn.Linear(784, 512),\n",
        "    torch.nn.ReLU(),\n",
        "    torch.nn.BatchNorm1d(512),\n",
        "    torch.nn.Linear(512, 256),\n",
        "    torch.nn.ReLU(),\n",
        "    torch.nn.BatchNorm1d(256),\n",
        "    torch.nn.Linear(256, 128),\n",
        "    torch.nn.ReLU(),\n",
        "    torch.nn.BatchNorm1d(128),\n",
        "    torch.nn.Linear(128, 10)\n",
        ")"
      ],
      "metadata": {
        "id": "XhV58_jqfprA"
      },
      "execution_count": 18,
      "outputs": []
    },
    {
      "cell_type": "code",
      "source": [
        "trainer = torch.optim.RMSprop(model.parameters(), lr=.01)\n",
        "train_model()"
      ],
      "metadata": {
        "colab": {
          "base_uri": "https://localhost:8080/"
        },
        "id": "LUW9pXn1fp1A",
        "outputId": "3a32267e-631c-484c-bbcf-43486c41344a"
      },
      "execution_count": 19,
      "outputs": [
        {
          "output_type": "stream",
          "name": "stdout",
          "text": [
            "ep: 0, taked: 12.075, train_loss: 0.23267957122719035, train_acc: 0.9294, test_loss: 0.1616538783768192, test_acc: 0.9462\n",
            "ep: 1, taked: 11.994, train_loss: 0.10194306785359662, train_acc: 0.9689166666666666, test_loss: 0.12779887910583057, test_acc: 0.9603\n",
            "ep: 2, taked: 11.962, train_loss: 0.07231868238564819, train_acc: 0.9781833333333333, test_loss: 0.29014088594703935, test_acc: 0.9244\n",
            "ep: 3, taked: 11.887, train_loss: 0.05737338457454709, train_acc: 0.9819833333333333, test_loss: 0.16540324268862605, test_acc: 0.957\n",
            "ep: 4, taked: 12.838, train_loss: 0.043728433736411734, train_acc: 0.98615, test_loss: 0.11038600715983193, test_acc: 0.9683\n",
            "ep: 5, taked: 11.877, train_loss: 0.03438234965643905, train_acc: 0.9891, test_loss: 0.1308876895043795, test_acc: 0.9674\n",
            "ep: 6, taked: 11.937, train_loss: 0.031237549286216814, train_acc: 0.9899, test_loss: 0.1114725422594347, test_acc: 0.973\n",
            "ep: 7, taked: 11.904, train_loss: 0.024778889793100112, train_acc: 0.9919333333333333, test_loss: 0.0911014746670844, test_acc: 0.9771\n",
            "ep: 8, taked: 11.877, train_loss: 0.021381795892313597, train_acc: 0.9927, test_loss: 0.1178661919591832, test_acc: 0.9692\n",
            "ep: 9, taked: 11.987, train_loss: 0.01808764549477541, train_acc: 0.9937666666666667, test_loss: 0.11383598223183071, test_acc: 0.9747\n"
          ]
        }
      ]
    },
    {
      "cell_type": "code",
      "source": [],
      "metadata": {
        "id": "ZNBYAk67fp79"
      },
      "execution_count": null,
      "outputs": []
    }
  ]
}